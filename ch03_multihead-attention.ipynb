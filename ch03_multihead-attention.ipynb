{
 "cells": [
  {
   "cell_type": "markdown",
   "id": "8d5ad0fe",
   "metadata": {},
   "source": [
    "### github\n",
    "https://github.com/rasbt/LLMs-from-scratch/blob/b12dbf6c682c2ce971ff2256f243f2e55285f974/ch03/01_main-chapter-code/ch03.ipynb"
   ]
  },
  {
   "cell_type": "code",
   "execution_count": 1,
   "id": "24a77d17",
   "metadata": {},
   "outputs": [],
   "source": [
    "import torch\n",
    "\n",
    "inputs = torch.tensor(\n",
    "  [[0.43, 0.15, 0.89], # Your     (x^1)\n",
    "   [0.55, 0.87, 0.66], # journey  (x^2)\n",
    "   [0.57, 0.85, 0.64], # starts   (x^3)\n",
    "   [0.22, 0.58, 0.33], # with     (x^4)\n",
    "   [0.77, 0.25, 0.10], # one      (x^5)\n",
    "   [0.05, 0.80, 0.55]] # step     (x^6)\n",
    ")"
   ]
  },
  {
   "cell_type": "code",
   "execution_count": 16,
   "id": "0472f9fb",
   "metadata": {},
   "outputs": [],
   "source": [
    "import torch.nn as nn\n",
    "\n",
    "class MultiHeadAttention(nn.Module):\n",
    "    def __init__(self, d_in, d_out, context_length, dropout, num_heads, qkv_bias=False):\n",
    "        super().__init__()\n",
    "        assert (d_out % num_heads == 0), \"d_outはnum_headsで割りける値を設定\"\n",
    "\n",
    "        self.d_out = d_out\n",
    "        self.num_heads = num_heads\n",
    "        self.head_dim = d_out // num_heads\n",
    "\n",
    "        # 重みパラメータの初期化\n",
    "        self.W_query = nn.Linear(d_in, d_out, bias=qkv_bias)\n",
    "        self.W_key = nn.Linear(d_in, d_out, bias=qkv_bias)\n",
    "        self.W_value = nn.Linear(d_in, d_out, bias=qkv_bias)\n",
    "\n",
    "        # headの結合\n",
    "        self.out_proj = nn.Linear(d_out,d_out)\n",
    "        # ドロップアウト\n",
    "        self.dropout = nn.Dropout(dropout)\n",
    "        # マスク（causal attention）: context_lengthは最大長\n",
    "        self.register_buffer(\n",
    "            \"mask\",\n",
    "            torch.triu(torch.ones(context_length,context_length),diagonal=1) # 上三角行列（対角は０）で１の部分がマスクされる\n",
    "        )\n",
    "\n",
    "    def forward(self, x):\n",
    "        # バッチ、トークン数、埋め込み次元\n",
    "        b, num_tokens, d_in = x.shape\n",
    "\n",
    "        # クエリ、キー、バリュー\n",
    "        ## テンソルの形状：b x num_tokens x d_out ← 計算するためにd_outをnum_heads x head_dimに分解する必要あり\n",
    "        queries = self.W_query(x)\n",
    "        keys = self.W_key(x)\n",
    "        values = self.W_value(x)\n",
    "\n",
    "        ## テンソルの形状を b x num_tokens x num_heads x head_dimに\n",
    "        keys = keys.view(b, num_tokens, self.num_heads, self.head_dim)\n",
    "        values = values.view(b, num_tokens, self.num_heads, self.head_dim)\n",
    "        queries = queries.view(b, num_tokens, self.num_heads, self.head_dim)\n",
    "\n",
    "        ## num_tokensとhead_dimがテンソルの後ろに移動し、行列計算できるようにする\n",
    "        keys = keys.transpose(1,2) # 要素番号1,2の位置を入れ替え\n",
    "        values = values.transpose(1,2)\n",
    "        queries = queries.transpose(1,2)\n",
    "\n",
    "        # アテンションスコアの計算\n",
    "        attn_scores = queries @ keys.transpose(2,3) # 内積計算するためにkeysの方はnum_tokensとhead_dimを入れ替えて転置\n",
    "        \n",
    "        # causal attention\n",
    "        mask_bool = self.mask.bool()[:num_tokens, :num_tokens] # マスクをトークン数で切り捨て\n",
    "        attn_scores.masked_fill_(mask_bool,-torch.inf)\n",
    "\n",
    "        # 正規化\n",
    "        attn_weights = torch.softmax(attn_scores / keys.shape[-1]**0.5, dim=-1)\n",
    "        # ドロップアウト\n",
    "        attn_weights = self.dropout(attn_weights)\n",
    "\n",
    "        # コンテキストベクトル\n",
    "        context_vec = (attn_weights @ values).transpose(1,2) # b x num_tokens x num_heads x head_dimにもどす\n",
    "        ## テンソルの形状を出力に直す（各ヘッドの計算結合をマージ）\n",
    "        context_vec = context_vec.contiguous().view(\n",
    "            b, num_tokens, self.d_out\n",
    "        )\n",
    "        ## 線形射影を追加　※厳密には必要ないが多くのLLMアーキテクチャで一般的に使われているため参考として追加しているそう\n",
    "        context_vec = self.out_proj(context_vec)\n",
    "        return context_vec\n"
   ]
  },
  {
   "cell_type": "code",
   "execution_count": 17,
   "id": "c06fa627",
   "metadata": {},
   "outputs": [
    {
     "name": "stdout",
     "output_type": "stream",
     "text": [
      "torch.Size([2, 6, 3])\n"
     ]
    }
   ],
   "source": [
    "batch = torch.stack((inputs,inputs),dim=0)\n",
    "print(batch.shape) # 文章 x トークン数 x 埋め込み次元"
   ]
  },
  {
   "cell_type": "code",
   "execution_count": 18,
   "id": "c4eb010f",
   "metadata": {},
   "outputs": [
    {
     "name": "stdout",
     "output_type": "stream",
     "text": [
      "tensor([[[0.3190, 0.4858],\n",
      "         [0.2943, 0.3897],\n",
      "         [0.2856, 0.3593],\n",
      "         [0.2693, 0.3873],\n",
      "         [0.2639, 0.3928],\n",
      "         [0.2575, 0.4028]],\n",
      "\n",
      "        [[0.3190, 0.4858],\n",
      "         [0.2943, 0.3897],\n",
      "         [0.2856, 0.3593],\n",
      "         [0.2693, 0.3873],\n",
      "         [0.2639, 0.3928],\n",
      "         [0.2575, 0.4028]]], grad_fn=<ViewBackward0>)\n",
      "context_vecs.shape: torch.Size([2, 6, 2])\n"
     ]
    }
   ],
   "source": [
    "torch.manual_seed(123)\n",
    "\n",
    "batch_size, context_length, d_in = batch.shape\n",
    "d_out = 2\n",
    "mha = MultiHeadAttention(d_in, d_out, context_length, 0.0, num_heads=2)\n",
    "\n",
    "context_vecs = mha(batch)\n",
    "\n",
    "print(context_vecs)\n",
    "print(\"context_vecs.shape:\", context_vecs.shape)"
   ]
  },
  {
   "cell_type": "code",
   "execution_count": 2,
   "id": "53985cdb",
   "metadata": {},
   "outputs": [
    {
     "data": {
      "text/plain": [
       "tensor([[0., 1., 1., 1.],\n",
       "        [0., 0., 1., 1.],\n",
       "        [0., 0., 0., 1.],\n",
       "        [0., 0., 0., 0.]])"
      ]
     },
     "execution_count": 2,
     "metadata": {},
     "output_type": "execute_result"
    }
   ],
   "source": [
    "torch.triu(torch.ones(4,4),diagonal=1)"
   ]
  },
  {
   "cell_type": "code",
   "execution_count": null,
   "id": "8632fc21",
   "metadata": {},
   "outputs": [],
   "source": []
  }
 ],
 "metadata": {
  "kernelspec": {
   "display_name": ".venv",
   "language": "python",
   "name": "python3"
  },
  "language_info": {
   "codemirror_mode": {
    "name": "ipython",
    "version": 3
   },
   "file_extension": ".py",
   "mimetype": "text/x-python",
   "name": "python",
   "nbconvert_exporter": "python",
   "pygments_lexer": "ipython3",
   "version": "3.9.6"
  }
 },
 "nbformat": 4,
 "nbformat_minor": 5
}
