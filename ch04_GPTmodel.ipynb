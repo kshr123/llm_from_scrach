{
 "cells": [
  {
   "cell_type": "markdown",
   "id": "a9787bc5",
   "metadata": {},
   "source": [
    "### 参考github\n",
    "https://github.com/rasbt/LLMs-from-scratch/blob/main/ch04/01_main-chapter-code/ch04.ipynb"
   ]
  },
  {
   "cell_type": "code",
   "execution_count": 1,
   "id": "a3457da8",
   "metadata": {},
   "outputs": [
    {
     "name": "stdout",
     "output_type": "stream",
     "text": [
      "matplotlib version: 3.9.4\n",
      "torch version: 2.7.1\n",
      "tiktoken version: 0.9.0\n"
     ]
    }
   ],
   "source": [
    "from importlib.metadata import version\n",
    "\n",
    "print(\"matplotlib version:\", version(\"matplotlib\"))\n",
    "print(\"torch version:\", version(\"torch\"))\n",
    "print(\"tiktoken version:\", version(\"tiktoken\"))"
   ]
  },
  {
   "cell_type": "markdown",
   "id": "91e364be",
   "metadata": {},
   "source": [
    "# GPTモデルの実装"
   ]
  },
  {
   "cell_type": "code",
   "execution_count": 6,
   "id": "2d5e2178",
   "metadata": {},
   "outputs": [],
   "source": [
    "# ch03のコピー\n",
    "import torch\n",
    "import torch.nn as nn\n",
    "\n",
    "class MultiHeadAttention(nn.Module):\n",
    "    def __init__(self, d_in, d_out, context_length, dropout, num_heads, qkv_bias=False):\n",
    "        super().__init__()\n",
    "        assert (d_out % num_heads == 0), \"d_outはnum_headsで割りける値を設定\"\n",
    "\n",
    "        self.d_out = d_out\n",
    "        self.num_heads = num_heads\n",
    "        self.head_dim = d_out // num_heads\n",
    "\n",
    "        # 重みパラメータの初期化\n",
    "        self.W_query = nn.Linear(d_in, d_out, bias=qkv_bias)\n",
    "        self.W_key = nn.Linear(d_in, d_out, bias=qkv_bias)\n",
    "        self.W_value = nn.Linear(d_in, d_out, bias=qkv_bias)\n",
    "\n",
    "        # headの結合\n",
    "        self.out_proj = nn.Linear(d_out,d_out)\n",
    "        # ドロップアウト\n",
    "        self.dropout = nn.Dropout(dropout)\n",
    "        # マスク（causal attention）: context_lengthは最大長\n",
    "        self.register_buffer(\n",
    "            \"mask\",\n",
    "            torch.triu(torch.ones(context_length,context_length),diagonal=1) # 上三角行列（対角は０）で１の部分がマスクされる\n",
    "        )\n",
    "\n",
    "    def forward(self, x):\n",
    "        # バッチ、トークン数、埋め込み次元\n",
    "        b, num_tokens, d_in = x.shape\n",
    "\n",
    "        # クエリ、キー、バリュー\n",
    "        ## テンソルの形状：b x num_tokens x d_out ← 計算するためにd_outをnum_heads x head_dimに分解する必要あり\n",
    "        queries = self.W_query(x)\n",
    "        keys = self.W_key(x)\n",
    "        values = self.W_value(x)\n",
    "\n",
    "        ## テンソルの形状を b x num_tokens x num_heads x head_dimに\n",
    "        keys = keys.view(b, num_tokens, self.num_heads, self.head_dim)\n",
    "        values = values.view(b, num_tokens, self.num_heads, self.head_dim)\n",
    "        queries = queries.view(b, num_tokens, self.num_heads, self.head_dim)\n",
    "\n",
    "        ## num_tokensとhead_dimがテンソルの後ろに移動し、行列計算できるようにする\n",
    "        keys = keys.transpose(1,2) # 要素番号1,2の位置を入れ替え\n",
    "        values = values.transpose(1,2)\n",
    "        queries = queries.transpose(1,2)\n",
    "\n",
    "        # アテンションスコアの計算\n",
    "        attn_scores = queries @ keys.transpose(2,3) # 内積計算するためにkeysの方はnum_tokensとhead_dimを入れ替えて転置\n",
    "        \n",
    "        # causal attention\n",
    "        mask_bool = self.mask.bool()[:num_tokens, :num_tokens] # マスクをトークン数で切り捨て\n",
    "        attn_scores.masked_fill_(mask_bool,-torch.inf)\n",
    "\n",
    "        # 正規化\n",
    "        attn_weights = torch.softmax(attn_scores / keys.shape[-1]**0.5, dim=-1)\n",
    "        # ドロップアウト\n",
    "        attn_weights = self.dropout(attn_weights)\n",
    "\n",
    "        # コンテキストベクトル\n",
    "        context_vec = (attn_weights @ values).transpose(1,2) # b x num_tokens x num_heads x head_dimにもどす\n",
    "        ## テンソルの形状を出力に直す（各ヘッドの計算結合をマージ）\n",
    "        context_vec = context_vec.contiguous().view(\n",
    "            b, num_tokens, self.d_out\n",
    "        )\n",
    "        ## 線形射影を追加　※厳密には必要ないが多くのLLMアーキテクチャで一般的に使われているため参考として追加しているそう\n",
    "        context_vec = self.out_proj(context_vec)\n",
    "        return context_vec\n"
   ]
  },
  {
   "cell_type": "markdown",
   "id": "8dc42769",
   "metadata": {},
   "source": [
    "### "
   ]
  },
  {
   "cell_type": "code",
   "execution_count": 5,
   "id": "d88a0d98",
   "metadata": {},
   "outputs": [],
   "source": [
    "GPT_CONFIG_124M = {\n",
    "    \"vocab_size\": 50257,    # 語彙サイズ\n",
    "    \"context_length\": 1024, # コンテキストの長さ\n",
    "    \"emb_dim\": 768,         # 埋め込み次元\n",
    "    \"n_heads\": 12,          # Attentionヘッドの数\n",
    "    \"n_layers\": 12,         # Transformerブロックの数\n",
    "    \"drop_rate\": 0.1,       # ドロップアウト率\n",
    "    \"qkv_bias\": False       # クエリ、キー、バリューの計算（torch.nn.Linear）の計算にバイアスを使うか\n",
    "}"
   ]
  },
  {
   "cell_type": "code",
   "execution_count": 8,
   "id": "901ebd0f",
   "metadata": {},
   "outputs": [],
   "source": [
    "# 層正規化クラス\n",
    "'''\n",
    "Note\n",
    "層正規化は勾配消失や勾配爆発に対応するための工夫。\n",
    "層の出力を平均０、分散１になるように調整することで、効果的な重みへの収束が早まり、訓練の一貫性と信頼性が確保される。\n",
    "Multi-head Attentionの前（または後）、出力層\n",
    "'''\n",
    "class LayerNorm(nn.Module):\n",
    "    def __init__(self, emb_dim):\n",
    "        super().__init__()\n",
    "        self.eps = 1e-5 # 0除算の防止\n",
    "        # 訓練可能なパラメータを用意(入力次元と同次元)\n",
    "        self.scale = nn.Parameter(torch.ones(emb_dim)) # 平均１\n",
    "        self.shift = nn.Parameter(torch.zeros(emb_dim)) # 分散０\n",
    "\n",
    "    def forward(self, x):\n",
    "        mean = x.mean(dim=-1, keepdim=True) # dim=-1により列次元（テンソルの最後）に沿って計算。keepdim=Trueにすることで、テンソルが縮小しても出力テンソルの次元数が常に入力テンソルに一致する\n",
    "        var = x.var(dim=-1, keepdim=True, unbiased=False) # unbaised=Trueだと普遍分散。nが大きければn, n-1で変わらないので計算結果は同じ\n",
    "        norm_x = (x - mean) / torch.sqrt(var + self.eps)\n",
    "\n",
    "        # 訓練可能なパラメータを用意しておくことで訓練時にデータに合わせて最適に自動調整されるようにする\n",
    "        return self.scale * norm_x + self.shift"
   ]
  },
  {
   "cell_type": "code",
   "execution_count": 9,
   "id": "0353524b",
   "metadata": {},
   "outputs": [],
   "source": [
    "# GELU活性化関数\n",
    "'''\n",
    "GELUはReLUをより複雑で滑らかに改善したもの\n",
    "'''\n",
    "class GELU(nn.Module):\n",
    "    def __init__(self):\n",
    "        super().__init__()\n",
    "\n",
    "    def forward(self, x):\n",
    "        return 0.5 * x * (1 + torch.tanh(\n",
    "            torch.sqrt(torch.tensor(2.0 / torch.pi)) * \n",
    "            (x + 0.044715 * torch.pow(x, 3))\n",
    "        ))"
   ]
  },
  {
   "cell_type": "code",
   "execution_count": 10,
   "id": "12d850e3",
   "metadata": {},
   "outputs": [
    {
     "data": {
      "image/png": "[encoded data removed]",
      "text/plain": [
       "<Figure size 800x300 with 2 Axes>"
      ]
     },
     "metadata": {},
     "output_type": "display_data"
    }
   ],
   "source": [
    "import matplotlib.pyplot as plt\n",
    "\n",
    "gelu, relu = GELU(), nn.ReLU()\n",
    "\n",
    "# Some sample data\n",
    "x = torch.linspace(-3, 3, 100)\n",
    "y_gelu, y_relu = gelu(x), relu(x)\n",
    "\n",
    "plt.figure(figsize=(8, 3))\n",
    "for i, (y, label) in enumerate(zip([y_gelu, y_relu], [\"GELU\", \"ReLU\"]), 1):\n",
    "    plt.subplot(1, 2, i)\n",
    "    plt.plot(x, y)\n",
    "    plt.title(f\"{label} activation function\")\n",
    "    plt.xlabel(\"x\")\n",
    "    plt.ylabel(f\"{label}(x)\")\n",
    "    plt.grid(True)\n",
    "\n",
    "plt.tight_layout()\n",
    "plt.show()"
   ]
  },
  {
   "cell_type": "code",
   "execution_count": 12,
   "id": "f7af1de3",
   "metadata": {},
   "outputs": [],
   "source": [
    "# feedfowardモジュール\n",
    "'''\n",
    "汎化性能の向上\n",
    "Linear（高次元に射影） + GELU活性化 + Linear (入力次元に戻す)\n",
    "'''\n",
    "class FeedForward(nn.Module):\n",
    "    def __init__(self, cfg):\n",
    "        super().__init__()\n",
    "        self.layers = nn.Sequential(\n",
    "            nn.Linear(cfg[\"emb_dim\"], 4 * cfg[\"emb_dim\"]), # 高次元に射影\n",
    "            GELU(), # 活性化関数 \n",
    "            nn.Linear(4 * cfg[\"emb_dim\"], cfg[\"emb_dim\"]), # 入力次元に戻す\n",
    "        )\n",
    "\n",
    "    def forward(self, x):\n",
    "        return self.layers(x)"
   ]
  },
  {
   "cell_type": "code",
   "execution_count": 14,
   "id": "9800e9fe",
   "metadata": {},
   "outputs": [],
   "source": [
    "# Transformerブロック\n",
    "\n",
    "class TransformerBlock(nn.Module):\n",
    "    def __init__(self, cfg, *args, **kwargs):\n",
    "        super().__init__(*args, **kwargs)\n",
    "        # multi head attention\n",
    "        self.att = MultiHeadAttention(\n",
    "            d_in=cfg[\"emb_dim\"],\n",
    "            d_out=cfg[\"emb_dim\"],\n",
    "            context_length=cfg[\"context_length\"],\n",
    "            num_heads=cfg[\"n_heads\"], \n",
    "            dropout=cfg[\"drop_rate\"],\n",
    "            qkv_bias=cfg[\"qkv_bias\"]\n",
    "            )\n",
    "        \n",
    "        # feedforward\n",
    "        self.ff = FeedForward(cfg)\n",
    "\n",
    "        # 層正規化x２\n",
    "        self.norm1 = LayerNorm(cfg[\"emb_dim\"])\n",
    "        self.norm2 = LayerNorm(cfg[\"emb_dim\"])\n",
    "\n",
    "        # ドロップアウト\n",
    "        self.drop_shortcut = nn.Dropout(cfg[\"drop_rate\"])\n",
    "\n",
    "    def forward(self, x):\n",
    "        # アテンンションブロック\n",
    "        shortcut = x # ショートカットは勾配消失を防ぐための工夫。ある層の出力を１つ以上先の層の出力に追加する。\n",
    "        x = self.norm1(x) # 層正規化はコンポーネントの前に配置。後ろに配置すると悪さすることもあるらしい。\n",
    "        x = self.att(x) # アテンション機構\n",
    "        x = self.drop_shortcut(x) # ドロップアウト\n",
    "        x = x + shortcut\n",
    "\n",
    "        # feefforwardブロック\n",
    "        shortcut = x\n",
    "        x = self.norm2(x)\n",
    "        x = self.ff(x) # feefforward\n",
    "        x = self.drop_shortcut(x)\n",
    "        x = x + shortcut\n",
    "\n",
    "        return x"
   ]
  },
  {
   "cell_type": "markdown",
   "id": "b6f4ff55",
   "metadata": {},
   "source": [
    "<img src=\"fig/ch04_GPTModel.png\" width=\"700\">"
   ]
  },
  {
   "cell_type": "code",
   "execution_count": 15,
   "id": "69df956e",
   "metadata": {},
   "outputs": [],
   "source": [
    "# GPTモデル\n",
    "class GPTModel(nn.Module):\n",
    "    def __init__(self, cfg, *args, **kwargs):\n",
    "        super().__init__(*args, **kwargs)\n",
    "        \n",
    "        # トークン埋め込み＋位置埋め込み\n",
    "        self.tok_emb = nn.Embedding(cfg[\"vocab_size\"], cfg[\"emb_dim\"])\n",
    "        self.pos_emb = nn.Embedding(cfg[\"context_length\"], cfg[\"emb_dim\"])\n",
    "\n",
    "        # ドロップアウト\n",
    "        self.drop_emb = nn.Dropout(cfg[\"drop_rate\"])\n",
    "\n",
    "        # transformerブロック x 12\n",
    "        ## *はリストの中身を個別に渡すため。nn.Sequential(*[l1,l2,l3])はnn.Sequential(l1,l2,l3)と等価。*がない場合リストがレイヤー１つとみなされてしまう。\n",
    "        self.trf_blocks = nn.Sequential(\n",
    "            *[TransformerBlock(cfg) for _ in range(cfg[\"n_layers\"])]\n",
    "        )\n",
    "\n",
    "        # 最後の層正規化\n",
    "        self.final_norm = LayerNorm(cfg[\"emb_dim\"])\n",
    "\n",
    "        # 線形出力層：各トークンベクトルを語彙サイズと同じ次元に変換する\n",
    "        self.out_head = nn.Linear(\n",
    "            cfg[\"emb_dim\"], cfg[\"vocab_size\"], bias=False\n",
    "        )\n",
    "        \n",
    "\n",
    "    def forward(self, in_idx):\n",
    "        batch_size, seq_len = in_idx.shape\n",
    "        # トークン埋め込み\n",
    "        tok_embeds = self.tok_emb(in_idx)\n",
    "        # 位置埋め込み\n",
    "        ## torch.arange(3) → tensor([0,1,2])で位置を表すベクトルを作る\n",
    "        pos_embeds = self.pos_emb(\n",
    "            torch.arange(seq_len, device=in_idx.device)\n",
    "        )\n",
    "\n",
    "        # 各層の出力を計算\n",
    "        x = tok_embeds + pos_embeds\n",
    "        x = self.drop_emb(x)\n",
    "        x = self.trf_blocks(x)\n",
    "        x = self.final_norm(x)\n",
    "        logits = self.out_head(x)\n",
    "\n",
    "        return logits\n",
    "\n",
    "\n",
    "\n"
   ]
  },
  {
   "cell_type": "code",
   "execution_count": 17,
   "id": "560fe0a6",
   "metadata": {},
   "outputs": [
    {
     "name": "stdout",
     "output_type": "stream",
     "text": [
      "tensor([[6109, 3626, 6100,  345],\n",
      "        [6109, 1110, 6622,  257]])\n"
     ]
    }
   ],
   "source": [
    "# バッチ\n",
    "import tiktoken\n",
    "\n",
    "tokenizer = tiktoken.get_encoding(\"gpt2\")\n",
    "\n",
    "batch = []\n",
    "\n",
    "txt1 = \"Every effort moves you\"\n",
    "txt2 = \"Every day holds a\"\n",
    "\n",
    "batch.append(torch.tensor(tokenizer.encode(txt1)))\n",
    "batch.append(torch.tensor(tokenizer.encode(txt2)))\n",
    "batch = torch.stack(batch, dim=0)\n",
    "print(batch)"
   ]
  },
  {
   "cell_type": "code",
   "execution_count": 18,
   "id": "1e858851",
   "metadata": {},
   "outputs": [
    {
     "name": "stdout",
     "output_type": "stream",
     "text": [
      "Input batch:\n",
      " tensor([[6109, 3626, 6100,  345],\n",
      "        [6109, 1110, 6622,  257]])\n",
      "\n",
      "Output shape: torch.Size([2, 4, 50257])\n",
      "tensor([[[ 0.3613,  0.4223, -0.0711,  ...,  0.3483,  0.4661, -0.2838],\n",
      "         [-0.1792, -0.5660, -0.9485,  ...,  0.0477,  0.5181, -0.3168],\n",
      "         [ 0.7120,  0.0332,  0.1085,  ...,  0.1018, -0.4327, -0.2553],\n",
      "         [-1.0076,  0.3418, -0.1190,  ...,  0.7195,  0.4023,  0.0532]],\n",
      "\n",
      "        [[-0.2564,  0.0900,  0.0335,  ...,  0.2659,  0.4454, -0.6806],\n",
      "         [ 0.1230,  0.3653, -0.2074,  ...,  0.7705,  0.2710,  0.2246],\n",
      "         [ 1.0558,  1.0318, -0.2800,  ...,  0.6936,  0.3205, -0.3178],\n",
      "         [-0.1565,  0.3926,  0.3288,  ...,  1.2630, -0.1858,  0.0388]]],\n",
      "       grad_fn=<UnsafeViewBackward0>)\n"
     ]
    }
   ],
   "source": [
    "torch.manual_seed(123)\n",
    "model = GPTModel(GPT_CONFIG_124M)\n",
    "\n",
    "out = model(batch)\n",
    "print(\"Input batch:\\n\", batch)\n",
    "print(\"\\nOutput shape:\", out.shape)\n",
    "print(out)"
   ]
  },
  {
   "cell_type": "markdown",
   "id": "6bcacd82",
   "metadata": {},
   "source": [
    "# テキスト生成\n",
    "<img src=\"fig/ch04_gpt_text_gen.png\" width=\"700\">"
   ]
  },
  {
   "cell_type": "code",
   "execution_count": 24,
   "id": "839e73db",
   "metadata": {},
   "outputs": [],
   "source": [
    "# テキスト生成するGPTモデルの関数\n",
    "def generate_text_simple(model, idx, max_new_tokens, context_size):\n",
    "    for _ in range(max_new_tokens):\n",
    "        # トークン数がコンテキストサイズを超える場合にコンテキストを切り詰める。\n",
    "        idx_cond = idx[:, -context_size:]\n",
    "\n",
    "        # GPTモデルの出力\n",
    "        with torch.no_grad():\n",
    "            # gptの出力はバッチ x トークン数 x 語彙サイズのテンソル\n",
    "            logits = model(idx_cond)\n",
    "        \n",
    "        # 最後のベクトルを抽出\n",
    "        ## 最後のベクトルがGPTが予測した次のトークンベクトル\n",
    "        ## (バッチサイズ、トークン数、語彙サイズ)　→　(バッチ、語彙サイズ)に変換される\n",
    "        logits = logits[:,-1,:]\n",
    "\n",
    "        # softmaxで確率に変換\n",
    "        probas = torch.softmax(logits, dim=-1)\n",
    "\n",
    "        # 確率が最も高い要素（トークンID）を抽出\n",
    "        idx_next = torch.argmax(probas, dim=-1, keepdim=True)\n",
    "\n",
    "        # 次のトークン予測のために入力を更新\n",
    "        idx = torch.cat((idx, idx_next), dim=1)\n",
    "\n",
    "\n",
    "    # 次のトークンIDを返す\n",
    "    return idx"
   ]
  },
  {
   "cell_type": "code",
   "execution_count": 25,
   "id": "c65f53e8",
   "metadata": {},
   "outputs": [
    {
     "name": "stdout",
     "output_type": "stream",
     "text": [
      "encoded: [15496, 11, 314, 716]\n",
      "encoded_tensor.shape: torch.Size([1, 4])\n"
     ]
    }
   ],
   "source": [
    "start_context = \"Hello, I am\"\n",
    "\n",
    "encoded = tokenizer.encode(start_context)\n",
    "print(\"encoded:\", encoded)\n",
    "\n",
    "# バッチの軸を追加したテンソルに変換\n",
    "## unsqueeze(0) 0番目に軸を追加\n",
    "## １次元ベクトル　→　1x4のテンソルに変換\n",
    "encoded_tensor = torch.tensor(encoded).unsqueeze(0)\n",
    "print(\"encoded_tensor.shape:\", encoded_tensor.shape)"
   ]
  },
  {
   "cell_type": "code",
   "execution_count": 26,
   "id": "686f9e4f",
   "metadata": {},
   "outputs": [
    {
     "name": "stdout",
     "output_type": "stream",
     "text": [
      "Output:  tensor([[15496,    11,   314,   716, 27018, 24086, 47843, 30961, 42348,  7267]])\n",
      "Output length:  10\n"
     ]
    }
   ],
   "source": [
    "# 評価モードに切り替え\n",
    "## 訓練時のみ使われるドロップアウトのようなランダムなコンポーネントが無効になる\n",
    "\n",
    "model.eval()\n",
    "\n",
    "out = generate_text_simple(\n",
    "    model=model,\n",
    "    idx=encoded_tensor,\n",
    "    max_new_tokens=6,\n",
    "    context_size=GPT_CONFIG_124M[\"context_length\"]\n",
    ")\n",
    "\n",
    "print(\"Output: \", out)\n",
    "print(\"Output length: \", len(out[0]))\n"
   ]
  },
  {
   "cell_type": "code",
   "execution_count": 27,
   "id": "5eb45ab7",
   "metadata": {},
   "outputs": [
    {
     "name": "stdout",
     "output_type": "stream",
     "text": [
      "Hello, I am Featureiman Byeswickattribute argue\n"
     ]
    }
   ],
   "source": [
    "# トークンIDを文章に直す\n",
    "decoded_text = tokenizer.decode(out.squeeze(0).tolist())\n",
    "print(decoded_text)\n"
   ]
  },
  {
   "cell_type": "code",
   "execution_count": null,
   "id": "3ea471af",
   "metadata": {},
   "outputs": [],
   "source": []
  }
 ],
 "metadata": {
  "kernelspec": {
   "display_name": ".venv",
   "language": "python",
   "name": "python3"
  },
  "language_info": {
   "codemirror_mode": {
    "name": "ipython",
    "version": 3
   },
   "file_extension": ".py",
   "mimetype": "text/x-python",
   "name": "python",
   "nbconvert_exporter": "python",
   "pygments_lexer": "ipython3",
   "version": "3.9.6"
  }
 },
 "nbformat": 4,
 "nbformat_minor": 5
}
