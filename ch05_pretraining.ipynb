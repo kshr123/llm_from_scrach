{
 "cells": [
  {
   "cell_type": "markdown",
   "id": "3ce6ff51",
   "metadata": {},
   "source": [
    "# ５章　ラベルなしデータでの事前学習"
   ]
  },
  {
   "cell_type": "markdown",
   "id": "d04de1c6",
   "metadata": {},
   "source": [
    "## 5.1 テキスト生成モデルの評価"
   ]
  },
  {
   "cell_type": "code",
   "execution_count": 48,
   "id": "0bd6348f",
   "metadata": {},
   "outputs": [
    {
     "name": "stdout",
     "output_type": "stream",
     "text": [
      "The autoreload extension is already loaded. To reload it, use:\n",
      "  %reload_ext autoreload\n"
     ]
    }
   ],
   "source": [
    "%load_ext autoreload\n",
    "%autoreload 2"
   ]
  },
  {
   "cell_type": "code",
   "execution_count": null,
   "id": "91695621",
   "metadata": {},
   "outputs": [],
   "source": [
    "import torch\n",
    "import torch.nn as nn\n",
    "from chapters_code.ch05_previous_chapters import GPTModel"
   ]
  },
  {
   "cell_type": "code",
   "execution_count": 50,
   "id": "0ef91d32",
   "metadata": {},
   "outputs": [],
   "source": [
    "GPT_CONFIG_124M = {\n",
    "    \"vocab_size\": 50257,   # 語彙サイズ\n",
    "    \"context_length\": 256, # コンテキストの長さ。オリジナルは1024トークンだが、計算量低下のため小さく設定\n",
    "    \"emb_dim\": 768,        # Embedding dimension\n",
    "    \"n_heads\": 12,         # Number of attention heads\n",
    "    \"n_layers\": 12,        # Number of layers\n",
    "    \"drop_rate\": 0.1,      # Dropout rate\n",
    "    \"qkv_bias\": False      # Query-key-value bias\n",
    "}\n",
    "\n",
    "torch.manual_seed(123)\n",
    "model = GPTModel(GPT_CONFIG_124M)\n",
    "model.eval();  # 評価モード"
   ]
  },
  {
   "cell_type": "code",
   "execution_count": 51,
   "id": "598089e9",
   "metadata": {},
   "outputs": [
    {
     "name": "stdout",
     "output_type": "stream",
     "text": [
      "token_ids:  tensor([[ 6109,  3626,  6100,   345, 34245,  5139,  2492, 25405, 17434, 17853,\n",
      "          5308,  3398, 13174, 43071]])\n",
      "Output text: \n",
      " Every effort moves you rentingetic wasnم refres RexMeCHicular stren\n"
     ]
    }
   ],
   "source": [
    "# テキストをトークンIDに変換する関数\n",
    "\n",
    "import tiktoken\n",
    "from previous_chapters_code.ch05_previous_chapters import generate_text_simple\n",
    "\n",
    "# テキスト→トークンID\n",
    "def text_to_token_ids(text, tokenizer):\n",
    "    # テキストをエンコード\n",
    "    encoded = tokenizer.encode(text, allowed_special={'<|endoftext|>'})\n",
    "    # テンソル化。バッチ軸を追加してテンソルの次元を調整\n",
    "    encoded_tensor = torch.tensor(encoded).unsqueeze(0)\n",
    "\n",
    "    return encoded_tensor\n",
    "    \n",
    "\n",
    "# トークンID→テキスト\n",
    "def token_ids_to_text(token_ids, tokenizer):\n",
    "    # テンソルのバッチ次元を削除\n",
    "    flat = token_ids.squeeze(0)\n",
    "    # デコード\n",
    "    decoded = tokenizer.decode(flat.tolist())\n",
    "\n",
    "    return decoded\n",
    "\n",
    "\n",
    "start_context = \"Every effort moves you\"\n",
    "tokenizer = tiktoken.get_encoding(\"gpt2\")\n",
    "\n",
    "token_ids = generate_text_simple(\n",
    "    model=model,\n",
    "    idx=text_to_token_ids(start_context, tokenizer),\n",
    "    max_new_tokens=10,\n",
    "    context_size=GPT_CONFIG_124M[\"context_length\"]\n",
    ")\n",
    "\n",
    "print(\"token_ids: \", token_ids)\n",
    "print(\"Output text: \\n\", token_ids_to_text(token_ids, tokenizer))"
   ]
  },
  {
   "cell_type": "code",
   "execution_count": 52,
   "id": "20001868",
   "metadata": {},
   "outputs": [],
   "source": [
    "# データ準備\n",
    "import os\n",
    "import urllib.request\n",
    "\n",
    "file_path = \"the-verdict.txt\"\n",
    "url = \"https://raw.githubusercontent.com/rasbt/LLMs-from-scratch/main/ch02/01_main-chapter-code/the-verdict.txt\"\n",
    "\n",
    "if not os.path.exists(file_path):\n",
    "    with urllib.request.urlopen(url) as response:\n",
    "        text_data = response.read().decode('utf-8')\n",
    "    with open(file_path, \"w\", encoding=\"utf-8\") as file:\n",
    "        file.write(text_data)\n",
    "else:\n",
    "    with open(file_path, \"r\", encoding=\"utf-8\") as file:\n",
    "        text_data = file.read()\n"
   ]
  },
  {
   "cell_type": "code",
   "execution_count": 53,
   "id": "787d7b11",
   "metadata": {},
   "outputs": [
    {
     "name": "stdout",
     "output_type": "stream",
     "text": [
      "I HAD always thought Jack Gisburn rather a cheap genius--though a good fellow enough--so it was no \n"
     ]
    }
   ],
   "source": [
    "print(text_data[:99])"
   ]
  },
  {
   "cell_type": "code",
   "execution_count": 54,
   "id": "9bc54512",
   "metadata": {},
   "outputs": [
    {
     "name": "stdout",
     "output_type": "stream",
     "text": [
      "Characters: 20479\n",
      "Tokens: 5145\n"
     ]
    }
   ],
   "source": [
    "total_characters = len(text_data)\n",
    "total_tokens = len(tokenizer.encode(text_data))\n",
    "\n",
    "print(\"Characters:\", total_characters)\n",
    "print(\"Tokens:\", total_tokens)"
   ]
  },
  {
   "cell_type": "markdown",
   "id": "4a74152d",
   "metadata": {},
   "source": [
    "<img src=\"fig/ch05_dataloader.png\" width=\"700\">"
   ]
  },
  {
   "cell_type": "code",
   "execution_count": null,
   "id": "057bd1cc",
   "metadata": {},
   "outputs": [
    {
     "name": "stdout",
     "output_type": "stream",
     "text": [
      "Train loader:\n",
      "torch.Size([2, 256]) torch.Size([2, 256])\n",
      "torch.Size([2, 256]) torch.Size([2, 256])\n",
      "torch.Size([2, 256]) torch.Size([2, 256])\n",
      "torch.Size([2, 256]) torch.Size([2, 256])\n",
      "torch.Size([2, 256]) torch.Size([2, 256])\n",
      "torch.Size([2, 256]) torch.Size([2, 256])\n",
      "torch.Size([2, 256]) torch.Size([2, 256])\n",
      "torch.Size([2, 256]) torch.Size([2, 256])\n",
      "torch.Size([2, 256]) torch.Size([2, 256])\n",
      "\n",
      "Validation loader:\n",
      "torch.Size([2, 256]) torch.Size([2, 256])\n"
     ]
    }
   ],
   "source": [
    "# データローダー\n",
    "from chapters_code.ch05_previous_chapters import create_dataloader_v1\n",
    "\n",
    "# 訓練、検証データ\n",
    "train_ratio = 0.90\n",
    "split_idx = int(train_ratio * len(text_data))\n",
    "train_data = text_data[:split_idx]\n",
    "val_data = text_data[split_idx:]\n",
    "\n",
    "# シード固定\n",
    "torch.manual_seed(123)\n",
    "\n",
    "# 訓練データローダー\n",
    "train_loader = create_dataloader_v1(\n",
    "    train_data,\n",
    "    batch_size=2,\n",
    "    max_length=GPT_CONFIG_124M[\"context_length\"], # 256\n",
    "    stride=GPT_CONFIG_124M[\"context_length\"],\n",
    "    drop_last=True,\n",
    "    shuffle=True,\n",
    "    num_workers=0\n",
    ")\n",
    "\n",
    "# 検証データローダー\n",
    "val_loader = create_dataloader_v1(\n",
    "    val_data,\n",
    "    batch_size=2,\n",
    "    max_length=GPT_CONFIG_124M[\"context_length\"],\n",
    "    stride=GPT_CONFIG_124M[\"context_length\"],\n",
    "    drop_last=False,\n",
    "    shuffle=False,\n",
    "    num_workers=0\n",
    ")\n",
    "\n",
    "\n",
    "print(\"Train loader:\")\n",
    "for x, y in train_loader:\n",
    "    print(x.shape, y.shape)\n",
    "\n",
    "print(\"\\nValidation loader:\")\n",
    "for x, y in val_loader:\n",
    "    print(x.shape, y.shape)"
   ]
  },
  {
   "cell_type": "code",
   "execution_count": 56,
   "id": "d6093a74",
   "metadata": {},
   "outputs": [],
   "source": [
    "# 損失計算用の関数\n",
    "\n",
    "# １つのバッチでの損失を計算\n",
    "def calc_loss_batch(input_batch, target_batch, model, device):\n",
    "    # デバイスの指定\n",
    "    input_batch = input_batch.to(device)\n",
    "    target_batch = target_batch.to(device)\n",
    "\n",
    "    # ロジットの計算\n",
    "    logits = model(input_batch)\n",
    "\n",
    "    # 損失の計算：交差エントロピー（２つの確率分布の差を定量的に計測する指標）\n",
    "    ## logits: バッチサイズBxトークン数Tx埋め込み次元E　→ flatten(0,1)により[B*T, E]という形になる。これにより各トークンごとのロジットをもった形に変換\n",
    "    ## targert: バッチサイズxトークン数\n",
    "    loss = nn.functional.cross_entropy(\n",
    "        logits.flatten(0,1), target_batch.flatten()\n",
    "    )\n",
    "\n",
    "    return loss\n",
    "\n",
    "# データローダーでの損失を計算\n",
    "def calc_loss_loader(data_loader, model, device, num_batches=None):\n",
    "    total_loss = 0.\n",
    "    # \n",
    "    if len(data_loader) == 0:\n",
    "        return float(\"nan\")\n",
    "    # num_batchesが指定されていないとき\n",
    "    elif num_batches is None:\n",
    "        num_batches = len(data_loader)\n",
    "    else:\n",
    "        # num_batchesがデータローダーのバッチ数を超えている場合は、データローダーのバッチ数に一致するように調整\n",
    "        num_batches = min(num_batches, len(data_loader))\n",
    "\n",
    "    # バッチごとに計算\n",
    "    for i, (input_batch, target_batch) in enumerate(data_loader):\n",
    "        if i < num_batches:\n",
    "            # バッチでの損失を計算\n",
    "            loss = calc_loss_batch(input_batch, target_batch, model, device)\n",
    "            # 各バッチの損失を合計\n",
    "            total_loss += loss\n",
    "        else:\n",
    "            break\n",
    "\n",
    "        # バッチごとの損失の平均を返す\n",
    "        return total_loss / num_batches"
   ]
  },
  {
   "cell_type": "code",
   "execution_count": 57,
   "id": "4ea76585",
   "metadata": {},
   "outputs": [
    {
     "name": "stdout",
     "output_type": "stream",
     "text": [
      "cpu\n",
      "Training loss: tensor(1.2197)\n",
      "Validation loss: tensor(10.9811)\n"
     ]
    }
   ],
   "source": [
    "# windows (NVIDIA)\n",
    "device = torch.device(\"cuda\" if torch.cuda.is_available() else \"cpu\")\n",
    "# mac\n",
    "# device = torch.device(\"mps\" if torch.backends.mps.is_available() else \"cpu\")\n",
    "print(device)\n",
    "\n",
    "with torch.no_grad(): # 勾配計算をオフ\n",
    "    train_loss = calc_loss_loader(train_loader, model, device)\n",
    "    val_loss = calc_loss_loader(val_loader, model, device)\n",
    "\n",
    "print(\"Training loss:\", train_loss)\n",
    "print(\"Validation loss:\", val_loss)"
   ]
  },
  {
   "cell_type": "markdown",
   "id": "b1b96ca1",
   "metadata": {},
   "source": [
    "## 5.2 LLMを訓練する\n",
    "<img src=\"fig/ch05_pytorch_train.png\" width=\"700\">"
   ]
  },
  {
   "cell_type": "code",
   "execution_count": 63,
   "id": "57e2be12",
   "metadata": {},
   "outputs": [],
   "source": [
    "# 訓練によりモデルが改善されたかを評価するための関数（訓練の進捗を表す）\n",
    "def evaluate_model(model, train_loader, val_loader, device, eval_iter):\n",
    "    # 評価モード（ドロップアウトなどランダム的な要素をなくす）\n",
    "    model.eval()\n",
    "\n",
    "    # 勾配の計算をオフ（計算量を減らせる）\n",
    "    with torch.no_grad():\n",
    "        train_loss = calc_loss_loader(train_loader, model, device, num_batches=eval_iter)\n",
    "        val_loss = calc_loss_loader(val_loader, model, device, num_batches=eval_iter)\n",
    "\n",
    "    # trainモードに戻す\n",
    "    model.train()\n",
    "\n",
    "    return train_loss, val_loss\n",
    "\n",
    "# 訓練中のモデルが生成した具体的なテキストサンプルを出力\n",
    "def generate_and_print_sample(model ,tokenizer, device, start_context):\n",
    "    # 評価モード\n",
    "    model.eval()\n",
    "    # 語彙サイズ\n",
    "    context_size = model.pos_emb.weight.shape[0]\n",
    "    # トークンIDにエンコード\n",
    "    encoded = text_to_token_ids(start_context, tokenizer).to(device)\n",
    "    # モデルが予測したトークンIDを取得\n",
    "    with torch.no_grad():\n",
    "        token_ids = generate_text_simple(model=model, idx=encoded, max_new_tokens=50, context_size=context_size)\n",
    "    # トークンIDをテキストにデコード\n",
    "    decoded_text = token_ids_to_text(token_ids, tokenizer)\n",
    "    # 生成したテキストを表示\n",
    "    print(decoded_text.replace(\"\\n\", \" \"))\n",
    "\n",
    "    # trainモードに戻す\n",
    "    model.train()"
   ]
  },
  {
   "cell_type": "code",
   "execution_count": 66,
   "id": "29ef5efe",
   "metadata": {},
   "outputs": [],
   "source": [
    "# 事前学習を行うためのメイン関数\n",
    "def train_model_simple(model, train_loader, val_loader, optimizer, device,\n",
    "                       num_epochs, eval_freq, eval_iter, start_context, tokenizer):\n",
    "    # ログ用\n",
    "    train_losses, val_losses, track_tokens_seen = [], [], []\n",
    "    tokens_seen, global_step = 0, -1\n",
    "\n",
    "    # エポック数分だけ訓練を回す\n",
    "    for epoch in range(num_epochs):\n",
    "        # 訓練モード\n",
    "        model.train()\n",
    "\n",
    "        # データローダーから各バッチを取ってきて計算\n",
    "        for input_batch, target_batch, in train_loader:\n",
    "            # 勾配をリセット\n",
    "            optimizer.zero_grad()\n",
    "\n",
    "            # 損失を計算\n",
    "            loss = calc_loss_batch(input_batch, target_batch, model, device)\n",
    "\n",
    "            # 損失の勾配を計算\n",
    "            loss.backward()\n",
    "\n",
    "            # 損失の勾配を使ってモデルの重みを更新\n",
    "            optimizer.step()\n",
    "\n",
    "            # 処理したトークン数\n",
    "            ## torch.randn(2, 3).numel() → 6\n",
    "            tokens_seen += input_batch.numel()\n",
    "\n",
    "            # ステップ数を更新\n",
    "            global_step += 1\n",
    "\n",
    "            # 検証\n",
    "            if global_step % eval_freq == 0:\n",
    "                train_loss, val_loss = evaluate_model(model, train_loader, val_loader, device, eval_iter)\n",
    "                # ログ用のリストにlossを追加\n",
    "                train_losses.append(train_loss)\n",
    "                val_losses.append(val_loss)\n",
    "                # 処理したトークン数を保存\n",
    "                track_tokens_seen.append(tokens_seen)\n",
    "                \n",
    "                # lossを表示\n",
    "                print(f\"Ep {epoch+1} (Step {global_step:06d}): \"\n",
    "                      f\"Train loss {train_loss:.3f}, \"\n",
    "                      f\"Val loss {val_loss:.3f}\"\n",
    "                      )\n",
    "        \n",
    "        #  各エポックの後にサンプルテキストを表示\n",
    "        generate_and_print_sample(model, tokenizer, device, start_context)\n",
    "\n",
    "    return train_losses, val_losses, track_tokens_seen"
   ]
  },
  {
   "cell_type": "code",
   "execution_count": 67,
   "id": "f527d2a9",
   "metadata": {},
   "outputs": [
    {
     "name": "stdout",
     "output_type": "stream",
     "text": [
      "Ep 1 (Step 000000): Train loss 1.979, Val loss 9.933\n",
      "Ep 1 (Step 000005): Train loss 1.583, Val loss 8.339\n",
      "Every effort moves you,,,,,,,,,,,,.                                     \n",
      "Ep 2 (Step 000010): Train loss 1.369, Val loss 7.048\n",
      "Ep 2 (Step 000015): Train loss 1.199, Val loss 6.616\n",
      "Every effort moves you, and, and, and, and, and, and, and, and, and, and, and, and, and, and, and, and, and, and, and, and, and, and,, and, and,\n",
      "Ep 3 (Step 000020): Train loss 1.132, Val loss 6.600\n",
      "Ep 3 (Step 000025): Train loss 1.073, Val loss 6.348\n",
      "Every effort moves you, and I had been.                                            \n",
      "Ep 4 (Step 000030): Train loss 0.802, Val loss 6.278\n",
      "Ep 4 (Step 000035): Train loss 0.510, Val loss 6.226\n",
      "Every effort moves you know the                          \"I he had the donkey and I had the and I had the donkey and down the room, I had\n",
      "Ep 5 (Step 000040): Train loss 0.767, Val loss 6.160\n",
      "Every effort moves you know it was not that the picture--I had the fact by the last I had been--his, and in the            \"Oh, and he said, and down the room, and in\n",
      "Ep 6 (Step 000045): Train loss 0.503, Val loss 6.179\n",
      "Ep 6 (Step 000050): Train loss 0.601, Val loss 6.141\n",
      "Every effort moves you know,\" was one of the picture. The--I had a little of a little: \"Yes, and in fact, and in the picture was, and I had been at my elbow and as his pictures, and down the room, I had\n",
      "Ep 7 (Step 000055): Train loss 0.515, Val loss 6.134\n",
      "Ep 7 (Step 000060): Train loss 0.351, Val loss 6.233\n",
      "Every effort moves you know,\" was one of the picture for nothing--I told Mrs.  \"I was no--as! The women had been, in the moment--as Jack himself, as once one had been the donkey, and were, and in his\n",
      "Ep 8 (Step 000065): Train loss 0.192, Val loss 6.238\n",
      "Ep 8 (Step 000070): Train loss 0.299, Val loss 6.242\n",
      "Every effort moves you know,\" was one of the axioms he had been the tips of a self-confident moustache, I felt to see a smile behind his close grayish beard--as if he had the donkey. \"strongest,\" as his\n",
      "Ep 9 (Step 000075): Train loss 0.159, Val loss 6.293\n",
      "Ep 9 (Step 000080): Train loss 0.128, Val loss 6.393\n",
      "Every effort moves you?\"  \"Yes--quite insensible to the irony. She wanted him vindicated--and by me!\"  He laughed again, and threw back the window-curtains, I had the donkey. \"There were days when I\n",
      "Ep 10 (Step 000085): Train loss 0.081, Val loss 6.452\n",
      "Every effort moves you know,\" was one of the axioms he laid down across the Sevres and silver of an exquisitely appointed luncheon-table, when, on a later day, I had again run over from Monte Carlo; and Mrs. Gis\n"
     ]
    }
   ],
   "source": [
    "# 実際に訓練\n",
    "torch.manual_seed(123)\n",
    "\n",
    "model = GPTModel(GPT_CONFIG_124M)\n",
    "model.to(device)\n",
    "# 損失関数：AdamW\n",
    "## AdamWはAdam改良版で汎化性能が上がっている\n",
    "opatimizer = torch.optim.AdamW(\n",
    "    model.parameters(), # 学習可能な重みパラメータ\n",
    "    lr=0.0004, weight_decay=0.1\n",
    "    )\n",
    "\n",
    "# エポック数\n",
    "num_epochs = 10\n",
    "train_losses, val_losses, tokens_seen = train_model_simple(\n",
    "    model, train_loader, val_loader, opatimizer, device,\n",
    "    num_epochs, eval_freq=5, eval_iter=5,\n",
    "    start_context=\"Every effort moves you\", tokenizer=tokenizer\n",
    ")"
   ]
  },
  {
   "cell_type": "code",
   "execution_count": 68,
   "id": "ce29aed6",
   "metadata": {},
   "outputs": [
    {
     "data": {
      "image/png": "[encoded data removed]",
      "text/plain": [
       "<Figure size 500x300 with 2 Axes>"
      ]
     },
     "metadata": {},
     "output_type": "display_data"
    }
   ],
   "source": [
    "import matplotlib.pyplot as plt\n",
    "from matplotlib.ticker import MaxNLocator\n",
    "\n",
    "\n",
    "def plot_losses(epochs_seen, tokens_seen, train_losses, val_losses):\n",
    "    fig, ax1 = plt.subplots(figsize=(5, 3))\n",
    "\n",
    "    # Plot training and validation loss against epochs\n",
    "    ax1.plot(epochs_seen, train_losses, label=\"Training loss\")\n",
    "    ax1.plot(epochs_seen, val_losses, linestyle=\"-.\", label=\"Validation loss\")\n",
    "    ax1.set_xlabel(\"Epochs\")\n",
    "    ax1.set_ylabel(\"Loss\")\n",
    "    ax1.legend(loc=\"upper right\")\n",
    "    ax1.xaxis.set_major_locator(MaxNLocator(integer=True))  # only show integer labels on x-axis\n",
    "\n",
    "    # Create a second x-axis for tokens seen\n",
    "    ax2 = ax1.twiny()  # Create a second x-axis that shares the same y-axis\n",
    "    ax2.plot(tokens_seen, train_losses, alpha=0)  # Invisible plot for aligning ticks\n",
    "    ax2.set_xlabel(\"Tokens seen\")\n",
    "\n",
    "    fig.tight_layout()  # Adjust layout to make room\n",
    "    plt.savefig(\"loss-plot.pdf\")\n",
    "    plt.show()\n",
    "\n",
    "epochs_tensor = torch.linspace(0, num_epochs, len(train_losses))\n",
    "plot_losses(epochs_tensor, tokens_seen, train_losses, val_losses)"
   ]
  },
  {
   "cell_type": "code",
   "execution_count": null,
   "id": "b1a0a063",
   "metadata": {},
   "outputs": [],
   "source": []
  }
 ],
 "metadata": {
  "kernelspec": {
   "display_name": ".venv",
   "language": "python",
   "name": "python3"
  },
  "language_info": {
   "codemirror_mode": {
    "name": "ipython",
    "version": 3
   },
   "file_extension": ".py",
   "mimetype": "text/x-python",
   "name": "python",
   "nbconvert_exporter": "python",
   "pygments_lexer": "ipython3",
   "version": "3.9.6"
  }
 },
 "nbformat": 4,
 "nbformat_minor": 5
}
